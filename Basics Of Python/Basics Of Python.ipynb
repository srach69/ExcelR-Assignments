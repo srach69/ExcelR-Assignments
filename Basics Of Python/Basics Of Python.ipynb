{
 "cells": [
  {
   "cell_type": "markdown",
   "id": "3797cb37-1e05-4d10-b00b-6c0d22f1c631",
   "metadata": {},
   "source": [
    "### Write a Python program that checks whether a given number is prime or not. A prime number is a natural number greater than 1 that has no positive divisors other than 1 and itself."
   ]
  },
  {
   "cell_type": "code",
   "execution_count": 6,
   "id": "7572226a-8438-4110-972b-dd37491a1ac0",
   "metadata": {},
   "outputs": [
    {
     "name": "stdin",
     "output_type": "stream",
     "text": [
      "Enter a Number : 4\n"
     ]
    },
    {
     "name": "stdout",
     "output_type": "stream",
     "text": [
      "4 is not a prime number\n"
     ]
    }
   ],
   "source": [
    "a = int(input(\"Enter a Number :\"))\n",
    "L =[]\n",
    "if a <= 1:\n",
    "    print(\"The number should be greater than 1\")\n",
    "else:\n",
    "    for i in range(1,a+1):\n",
    "        if a % i == 0:\n",
    "            L.append(i)\n",
    "    if len(L) == 2:\n",
    "        print(f'{a} is a prime number')\n",
    "    else:\n",
    "        print(f'{a} is not a prime number')"
   ]
  },
  {
   "cell_type": "markdown",
   "id": "5dcf63c2-4b09-4ffe-86dd-4a94e6f85e5f",
   "metadata": {},
   "source": [
    "### Develop a Python program that generates two random numbers and asks the user to enter the product of these numbers. The program should then check if the user's answer is correct and display an appropriate message."
   ]
  },
  {
   "cell_type": "code",
   "execution_count": 19,
   "id": "ddc920a6-e7fc-45b3-adef-7bed8f4859ae",
   "metadata": {},
   "outputs": [
    {
     "name": "stdout",
     "output_type": "stream",
     "text": [
      "The numbers are 58363 and 64584\n"
     ]
    },
    {
     "name": "stdin",
     "output_type": "stream",
     "text": [
      "Guess the product of 58363 and 64584 : 33\n"
     ]
    },
    {
     "name": "stdout",
     "output_type": "stream",
     "text": [
      "OOPS! Nice try , but the answer is : 3769315992\n"
     ]
    }
   ],
   "source": [
    "import numpy as np\n",
    "a = np.random.randint(100000)\n",
    "b = np.random.randint(100000)\n",
    "print(f\"The numbers are {a} and {b}\")\n",
    "c = int(input(f\"Guess the product of {a} and {b} :\"))\n",
    "if c == a*b:\n",
    "    print('Your answer is correct')\n",
    "else:\n",
    "    print(f\"OOPS! Nice try , but the answer is : {a*b}\")"
   ]
  },
  {
   "cell_type": "markdown",
   "id": "a44e4c32-8dae-421c-90cf-7148dfe5295b",
   "metadata": {},
   "source": [
    "### Create a Python script that prints the squares of all even or odd numbers within the range of 100 to 200. Choose either even or odd numbers and document your choice in the code."
   ]
  },
  {
   "cell_type": "markdown",
   "id": "23f58e19-cf21-47c2-a80c-71df6d615197",
   "metadata": {},
   "source": [
    "#### I will do both"
   ]
  },
  {
   "cell_type": "code",
   "execution_count": 32,
   "id": "d00b9e1b-7923-4d84-b0d4-e4f9c95e9b8f",
   "metadata": {},
   "outputs": [
    {
     "name": "stdout",
     "output_type": "stream",
     "text": [
      "The Square Of Even Numbers Are : [10000, 10404, 10816, 11236, 11664, 12100, 12544, 12996, 13456, 13924, 14400, 14884, 15376, 15876, 16384, 16900, 17424, 17956, 18496, 19044, 19600, 20164, 20736, 21316, 21904, 22500, 23104, 23716, 24336, 24964, 25600, 26244, 26896, 27556, 28224, 28900, 29584, 30276, 30976, 31684, 32400, 33124, 33856, 34596, 35344, 36100, 36864, 37636, 38416, 39204]\n",
      "The Square Of Odd Numbers Are : [10201, 10609, 11025, 11449, 11881, 12321, 12769, 13225, 13689, 14161, 14641, 15129, 15625, 16129, 16641, 17161, 17689, 18225, 18769, 19321, 19881, 20449, 21025, 21609, 22201, 22801, 23409, 24025, 24649, 25281, 25921, 26569, 27225, 27889, 28561, 29241, 29929, 30625, 31329, 32041, 32761, 33489, 34225, 34969, 35721, 36481, 37249, 38025, 38809, 39601]\n"
     ]
    }
   ],
   "source": [
    "Even = []\n",
    "Odd = []\n",
    "Sq_Even = []\n",
    "Sq_Odd = []\n",
    "for i in range(100 , 200):\n",
    "    if i % 2 == 0:\n",
    "        Even.append(i)\n",
    "    else:\n",
    "        Odd.append(i)\n",
    "for i in Even:\n",
    "    Sq_Even.append(i**2)\n",
    "print(f\"The Square Of Even Numbers Are : {Sq_Even}\")\n",
    "for j in Odd:\n",
    "    Sq_Odd.append(j**2)\n",
    "print(f\"The Square Of Odd Numbers Are : {Sq_Odd}\")"
   ]
  },
  {
   "cell_type": "markdown",
   "id": "b80d0e1a-5615-40f7-949c-6284522f5913",
   "metadata": {},
   "source": [
    "### write a program to count the number of words in a given text."
   ]
  },
  {
   "cell_type": "markdown",
   "id": "b7bcdf9c-6d8e-495c-9fe8-634f0b2d2dc8",
   "metadata": {},
   "source": [
    "###### example:\n",
    "- input_text = \"This is a sample text. This text will be used to demonstrate the word counter.\"\n",
    "###### Expected output:\n",
    "- 'This': 2 \n",
    "- 'is': 1\n",
    "- 'a': 1\n",
    "- 'sample': 1\n",
    "- 'text.': 1"
   ]
  },
  {
   "cell_type": "code",
   "execution_count": 60,
   "id": "5b4c2838-78e4-47f4-b851-546acc2e6994",
   "metadata": {},
   "outputs": [
    {
     "name": "stdout",
     "output_type": "stream",
     "text": [
      "'this' : 2\n",
      "'is' : 1\n",
      "'a' : 1\n",
      "'sample' : 1\n",
      "'text' : 2\n",
      "'this' : 2\n",
      "'text' : 2\n",
      "'will' : 1\n",
      "'be' : 1\n",
      "'used' : 1\n",
      "'to' : 1\n",
      "'demonstrate' : 1\n",
      "'the' : 1\n",
      "'word' : 1\n",
      "'counter' : 1\n"
     ]
    }
   ],
   "source": [
    "import string\n",
    "input_text = \"This is a sample text. This text will be used to demonstrate the word counter.\"\n",
    "input_text = input_text.translate(str.maketrans('', '', string.punctuation))\n",
    "Words = input_text.split()\n",
    "Words = [i.lower() for i in Words]\n",
    "for j in Words:\n",
    "    counter = Words.count(j)\n",
    "    print(f\"'{j}' : {counter}\")"
   ]
  },
  {
   "cell_type": "markdown",
   "id": "90b00831-013b-48ba-b3cc-bdc5cd42e10a",
   "metadata": {},
   "source": [
    "### Write a Python function called is_palindrome that takes a string as input and returns True if the string is a palindrome, and False otherwise. A palindrome is a word, phrase, number, or other sequence of characters that reads the same forward and backward, ignoring spaces, punctuation, and capitalization."
   ]
  },
  {
   "cell_type": "code",
   "execution_count": 68,
   "id": "47f94ca1-9796-4515-9b28-a41629a4a5dc",
   "metadata": {},
   "outputs": [
    {
     "name": "stdin",
     "output_type": "stream",
     "text": [
      "Enter A Word :  abbaaaaaa\n"
     ]
    },
    {
     "name": "stdout",
     "output_type": "stream",
     "text": [
      "False\n"
     ]
    }
   ],
   "source": [
    "a = input(\"Enter A Word : \")\n",
    "b = a[::-1]\n",
    "if a == b :\n",
    "    print('True')\n",
    "else :\n",
    "    print('False')"
   ]
  },
  {
   "cell_type": "code",
   "execution_count": null,
   "id": "7b7e03b1-62d3-44b5-8b4e-fdf67f19846c",
   "metadata": {},
   "outputs": [],
   "source": []
  }
 ],
 "metadata": {
  "kernelspec": {
   "display_name": "Python 3 (ipykernel)",
   "language": "python",
   "name": "python3"
  },
  "language_info": {
   "codemirror_mode": {
    "name": "ipython",
    "version": 3
   },
   "file_extension": ".py",
   "mimetype": "text/x-python",
   "name": "python",
   "nbconvert_exporter": "python",
   "pygments_lexer": "ipython3",
   "version": "3.11.8"
  }
 },
 "nbformat": 4,
 "nbformat_minor": 5
}
