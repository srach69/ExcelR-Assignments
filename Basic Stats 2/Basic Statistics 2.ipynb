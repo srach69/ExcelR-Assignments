{
 "cells": [
  {
   "cell_type": "markdown",
   "id": "8f32003b-39e3-43c6-8bef-c60229ed71dd",
   "metadata": {},
   "source": [
    "## Given Data"
   ]
  },
  {
   "cell_type": "markdown",
   "id": "0356e9ae-eca8-4992-8a58-350230d35aee",
   "metadata": {},
   "source": [
    "A total of 15 print-heads were randomly selected and tested until failure. The durability of each print-head (in millions of characters) was recorded as follows:\n",
    "1.13, 1.55, 1.43, 0.92, 1.25, 1.36, 1.32, 0.85, 1.07, 1.48, 1.20, 1.33, 1.18, 1.22, 1.29"
   ]
  },
  {
   "cell_type": "markdown",
   "id": "7a505627-57f6-4c2f-8d0d-bc24159d15ba",
   "metadata": {},
   "source": [
    "### Let's convert it into Tabular form"
   ]
  },
  {
   "cell_type": "code",
   "execution_count": 1,
   "id": "cc935db6-d298-430e-b647-4e5867767602",
   "metadata": {},
   "outputs": [],
   "source": [
    "import pandas as pd\n",
    "import numpy as np"
   ]
  },
  {
   "cell_type": "code",
   "execution_count": 2,
   "id": "63e74a3e-2b5f-4361-be46-4a5e34a7f738",
   "metadata": {},
   "outputs": [],
   "source": [
    "data = {\"Durability_Of_Printer_Heads\" :[1.13, 1.55, 1.43, 0.92, 1.25, 1.36, 1.32, 0.85, 1.07, 1.48, 1.20, 1.33, 1.18, 1.22, 1.29]}"
   ]
  },
  {
   "cell_type": "code",
   "execution_count": 3,
   "id": "08649b42-08f0-409d-b4a4-3cad8c82abe1",
   "metadata": {},
   "outputs": [],
   "source": [
    "df = pd.DataFrame(data)"
   ]
  },
  {
   "cell_type": "code",
   "execution_count": 4,
   "id": "ddd5e614-5388-4384-b58c-3b40e3b9011c",
   "metadata": {},
   "outputs": [
    {
     "data": {
      "text/html": [
       "<div>\n",
       "<style scoped>\n",
       "    .dataframe tbody tr th:only-of-type {\n",
       "        vertical-align: middle;\n",
       "    }\n",
       "\n",
       "    .dataframe tbody tr th {\n",
       "        vertical-align: top;\n",
       "    }\n",
       "\n",
       "    .dataframe thead th {\n",
       "        text-align: right;\n",
       "    }\n",
       "</style>\n",
       "<table border=\"1\" class=\"dataframe\">\n",
       "  <thead>\n",
       "    <tr style=\"text-align: right;\">\n",
       "      <th></th>\n",
       "      <th>Durability_Of_Printer_Heads</th>\n",
       "    </tr>\n",
       "  </thead>\n",
       "  <tbody>\n",
       "    <tr>\n",
       "      <th>0</th>\n",
       "      <td>1.13</td>\n",
       "    </tr>\n",
       "    <tr>\n",
       "      <th>1</th>\n",
       "      <td>1.55</td>\n",
       "    </tr>\n",
       "    <tr>\n",
       "      <th>2</th>\n",
       "      <td>1.43</td>\n",
       "    </tr>\n",
       "    <tr>\n",
       "      <th>3</th>\n",
       "      <td>0.92</td>\n",
       "    </tr>\n",
       "    <tr>\n",
       "      <th>4</th>\n",
       "      <td>1.25</td>\n",
       "    </tr>\n",
       "  </tbody>\n",
       "</table>\n",
       "</div>"
      ],
      "text/plain": [
       "   Durability_Of_Printer_Heads\n",
       "0                         1.13\n",
       "1                         1.55\n",
       "2                         1.43\n",
       "3                         0.92\n",
       "4                         1.25"
      ]
     },
     "execution_count": 4,
     "metadata": {},
     "output_type": "execute_result"
    }
   ],
   "source": [
    "df.head()"
   ]
  },
  {
   "cell_type": "markdown",
   "id": "41f3dd8b-33b8-414a-bd65-812731762e04",
   "metadata": {},
   "source": [
    "# Assignment Task - 1\n",
    "- Build 99% Confidence Interval Using Sample Standard Deviation\n",
    "Assuming the sample is representative of the population, construct a 99% confidence interval for the mean number of characters printed before the print-head fails using the sample standard deviation. Explain the steps you take and the rationale behind using the t-distribution for this task."
   ]
  },
  {
   "cell_type": "markdown",
   "id": "1f057f88-3e3b-4950-b7bb-694dccb38cc9",
   "metadata": {},
   "source": [
    "## Solution"
   ]
  },
  {
   "cell_type": "markdown",
   "id": "21f1236f-7abe-4a1a-98ee-b38398488051",
   "metadata": {},
   "source": [
    " The formula for calculating Confidence Interval we need standard deviation of an Dataset. But here we don't have enough data so we are gonna calculate standard deviation (sample standard deviation) of the sample dataset that we have and we are gonna use that sample standard deviation in our Confidence Interval Formula.\n",
    "#### Confidence Interval (CI) = X_mean (+ -)Z * S/sqrt(n)\n",
    "- Here X_mean = Mean of the values\n",
    "- Z = Confidence Value\n",
    "- S = Standard Deviation\n",
    "- n = No. Of Values Taken(Sample Size)\n",
    "- The summation will calculate the upper range and the substraction will calculate the lower range\n",
    "But in this case the sample size is very small and the standard deviation is unknown . The sample size should always be around minimum 30. So here Z will be replaced by t-score\n",
    "#### So here CI = X_mean (+ -)t-score * S/sqrt(n)\n",
    "- T-score\n",
    "Used when the sample size is small and the population standard deviation is estimated from the data. T-scores are larger for smaller samples, resulting in wider confidence intervals and larger margins of error.\n",
    "- Z-score\n",
    "Used when the sample size is large and the population standard deviation is knownown"
   ]
  },
  {
   "cell_type": "code",
   "execution_count": 5,
   "id": "412c12cc-aca6-4620-883e-1aee972e6278",
   "metadata": {},
   "outputs": [
    {
     "data": {
      "text/plain": [
       "1.2386666666666666"
      ]
     },
     "execution_count": 5,
     "metadata": {},
     "output_type": "execute_result"
    }
   ],
   "source": [
    "mean = np.mean(df) #mean\n",
    "x_mean = mean\n",
    "x_mean"
   ]
  },
  {
   "cell_type": "code",
   "execution_count": 6,
   "id": "dd8ff8cd-fb4f-4fb3-8683-44b08312aee7",
   "metadata": {},
   "outputs": [
    {
     "data": {
      "text/plain": [
       "0.18661427836285438"
      ]
     },
     "execution_count": 6,
     "metadata": {},
     "output_type": "execute_result"
    }
   ],
   "source": [
    "std = np.std(df['Durability_Of_Printer_Heads']) #standard deviation\n",
    "S = std\n",
    "S"
   ]
  },
  {
   "cell_type": "code",
   "execution_count": 7,
   "id": "b0bb6a2d-fd07-421b-86b5-336824d8f492",
   "metadata": {},
   "outputs": [
    {
     "data": {
      "text/plain": [
       "15"
      ]
     },
     "execution_count": 7,
     "metadata": {},
     "output_type": "execute_result"
    }
   ],
   "source": [
    "sample_size = len(df) #Sample_Size\n",
    "n = sample_size\n",
    "n"
   ]
  },
  {
   "cell_type": "code",
   "execution_count": 8,
   "id": "e1c0efe8-a7eb-48a6-96c2-71f3d1bce854",
   "metadata": {},
   "outputs": [],
   "source": [
    "from scipy import stats"
   ]
  },
  {
   "cell_type": "code",
   "execution_count": 9,
   "id": "c70d5f8a-75fa-4674-be79-2b6772fc8bb8",
   "metadata": {},
   "outputs": [
    {
     "name": "stdout",
     "output_type": "stream",
     "text": [
      "14 , 0.99\n"
     ]
    }
   ],
   "source": [
    "degree_of_freedom = n-1 #Degree Of Freedom\n",
    "confidence_level = 0.99 #99% Confidence Interval\n",
    "print(degree_of_freedom ,',', confidence_level)"
   ]
  },
  {
   "cell_type": "code",
   "execution_count": 10,
   "id": "2e4b286d-8dfa-471c-8e00-9c516c69ab43",
   "metadata": {},
   "outputs": [
    {
     "data": {
      "text/plain": [
       "2.97684273411266"
      ]
     },
     "execution_count": 10,
     "metadata": {},
     "output_type": "execute_result"
    }
   ],
   "source": [
    "t_score = stats.t.ppf(1 - (1 - confidence_level) / 2, degree_of_freedom)\n",
    "t_score"
   ]
  },
  {
   "cell_type": "code",
   "execution_count": 11,
   "id": "872b2e21-2e31-4531-9f38-95bd282b743b",
   "metadata": {},
   "outputs": [],
   "source": [
    "CI_upper = x_mean + (t_score * S/np.sqrt(n))\n",
    "CI_lower = x_mean - (t_score * S/np.sqrt(n))"
   ]
  },
  {
   "cell_type": "code",
   "execution_count": 12,
   "id": "47862e44-e52f-42f4-8995-dcb75dfc6a64",
   "metadata": {},
   "outputs": [
    {
     "name": "stdout",
     "output_type": "stream",
     "text": [
      "So the Confidence Interval is : 1.0952316686385626 to 1.3821016646947706\n"
     ]
    }
   ],
   "source": [
    "print(f'So the Confidence Interval is : {CI_lower} to {CI_upper}') "
   ]
  },
  {
   "cell_type": "markdown",
   "id": "17bebc02-c763-4bbc-9c94-08e6ad7486c1",
   "metadata": {},
   "source": [
    "# Assignment Task - 2\n",
    "Build 99% Confidence Interval Using Known Population Standard Deviation .If it were known that the population standard deviation is 0.2 million characters, construct a 99% confidence interval for the mean number of characters printed before failure.\n"
   ]
  },
  {
   "cell_type": "markdown",
   "id": "bfd76dd2-6c5d-44ba-90b2-14aac00a4e98",
   "metadata": {},
   "source": [
    "## Solution"
   ]
  },
  {
   "cell_type": "markdown",
   "id": "dbbed686-ad11-4ee8-91df-462ce77da3ef",
   "metadata": {},
   "source": [
    "Here Z-score(Z) will be used "
   ]
  },
  {
   "cell_type": "code",
   "execution_count": 13,
   "id": "9b261b83-af3c-4e3f-bb9f-0300e603a581",
   "metadata": {},
   "outputs": [],
   "source": [
    "S = 0.2 #Population Standard Deviation"
   ]
  },
  {
   "cell_type": "markdown",
   "id": "ae503641-ec5a-4893-94dc-b734c89bcb2c",
   "metadata": {},
   "source": [
    "##### ConfidenceInterval -> Z\n",
    "-------------------------------\n",
    "- ConfidenceInterval = 95%   ->  Z = 1.960\n",
    "- ConfidenceInterval = 99%   ->  Z = 2.576\n",
    "- ConfidenceInterval = 99.5% ->  Z = 2.807\n",
    "- ConfidenceInterval = 99.9% ->  Z = 3.291"
   ]
  },
  {
   "cell_type": "code",
   "execution_count": 14,
   "id": "75a7c4cc-0655-4c9b-95a4-2377094ff0c2",
   "metadata": {},
   "outputs": [],
   "source": [
    "Z = 2.576"
   ]
  },
  {
   "cell_type": "code",
   "execution_count": 15,
   "id": "0bca8925-326e-4f26-a830-0f54a9909249",
   "metadata": {},
   "outputs": [],
   "source": [
    "CI_upper = x_mean + (Z * S/np.sqrt(n))\n",
    "CI_lower = x_mean - (Z * S/np.sqrt(n))"
   ]
  },
  {
   "cell_type": "code",
   "execution_count": 16,
   "id": "9ed36097-63c6-41e8-ae9b-7e9ff98da076",
   "metadata": {},
   "outputs": [
    {
     "name": "stdout",
     "output_type": "stream",
     "text": [
      "So the Confidence Interval is : 1.105642598668929 to 1.371690734664404\n"
     ]
    }
   ],
   "source": [
    "print(f'So the Confidence Interval is : {CI_lower} to {CI_upper}') "
   ]
  },
  {
   "cell_type": "code",
   "execution_count": null,
   "id": "b50ca1bf-7017-48c8-94f1-5554e9111bec",
   "metadata": {},
   "outputs": [],
   "source": []
  }
 ],
 "metadata": {
  "kernelspec": {
   "display_name": "Python 3 (ipykernel)",
   "language": "python",
   "name": "python3"
  },
  "language_info": {
   "codemirror_mode": {
    "name": "ipython",
    "version": 3
   },
   "file_extension": ".py",
   "mimetype": "text/x-python",
   "name": "python",
   "nbconvert_exporter": "python",
   "pygments_lexer": "ipython3",
   "version": "3.11.8"
  }
 },
 "nbformat": 4,
 "nbformat_minor": 5
}
