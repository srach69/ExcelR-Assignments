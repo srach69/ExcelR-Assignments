{
 "cells": [
  {
   "cell_type": "code",
   "execution_count": 1,
   "id": "8b9a739a-f802-40ab-a07c-d76e58d52dac",
   "metadata": {},
   "outputs": [],
   "source": [
    "import pandas as pd\n",
    "import numpy as np\n",
    "import statistics as st"
   ]
  },
  {
   "cell_type": "code",
   "execution_count": 2,
   "id": "8b916d8d-1e0b-4e6e-ab71-1995e6bf7c02",
   "metadata": {},
   "outputs": [],
   "source": [
    "df = pd.read_csv(\"sales_data_with_discounts.csv\")"
   ]
  },
  {
   "cell_type": "code",
   "execution_count": 3,
   "id": "ec66b7f3-a2ad-4ae4-8a0d-48526df41ca0",
   "metadata": {},
   "outputs": [
    {
     "data": {
      "text/html": [
       "<div>\n",
       "<style scoped>\n",
       "    .dataframe tbody tr th:only-of-type {\n",
       "        vertical-align: middle;\n",
       "    }\n",
       "\n",
       "    .dataframe tbody tr th {\n",
       "        vertical-align: top;\n",
       "    }\n",
       "\n",
       "    .dataframe thead th {\n",
       "        text-align: right;\n",
       "    }\n",
       "</style>\n",
       "<table border=\"1\" class=\"dataframe\">\n",
       "  <thead>\n",
       "    <tr style=\"text-align: right;\">\n",
       "      <th></th>\n",
       "      <th>Date</th>\n",
       "      <th>Day</th>\n",
       "      <th>SKU</th>\n",
       "      <th>City</th>\n",
       "      <th>Volume</th>\n",
       "      <th>BU</th>\n",
       "      <th>Brand</th>\n",
       "      <th>Model</th>\n",
       "      <th>Avg Price</th>\n",
       "      <th>Total Sales Value</th>\n",
       "      <th>Discount Rate (%)</th>\n",
       "      <th>Discount Amount</th>\n",
       "      <th>Net Sales Value</th>\n",
       "    </tr>\n",
       "  </thead>\n",
       "  <tbody>\n",
       "    <tr>\n",
       "      <th>0</th>\n",
       "      <td>01-04-2021</td>\n",
       "      <td>Thursday</td>\n",
       "      <td>M01</td>\n",
       "      <td>C</td>\n",
       "      <td>15</td>\n",
       "      <td>Mobiles</td>\n",
       "      <td>RealU</td>\n",
       "      <td>RU-10</td>\n",
       "      <td>12100</td>\n",
       "      <td>181500</td>\n",
       "      <td>11.654820</td>\n",
       "      <td>21153.498820</td>\n",
       "      <td>160346.501180</td>\n",
       "    </tr>\n",
       "    <tr>\n",
       "      <th>1</th>\n",
       "      <td>01-04-2021</td>\n",
       "      <td>Thursday</td>\n",
       "      <td>M02</td>\n",
       "      <td>C</td>\n",
       "      <td>10</td>\n",
       "      <td>Mobiles</td>\n",
       "      <td>RealU</td>\n",
       "      <td>RU-9 Plus</td>\n",
       "      <td>10100</td>\n",
       "      <td>101000</td>\n",
       "      <td>11.560498</td>\n",
       "      <td>11676.102961</td>\n",
       "      <td>89323.897039</td>\n",
       "    </tr>\n",
       "    <tr>\n",
       "      <th>2</th>\n",
       "      <td>01-04-2021</td>\n",
       "      <td>Thursday</td>\n",
       "      <td>M03</td>\n",
       "      <td>C</td>\n",
       "      <td>7</td>\n",
       "      <td>Mobiles</td>\n",
       "      <td>YouM</td>\n",
       "      <td>YM-99</td>\n",
       "      <td>16100</td>\n",
       "      <td>112700</td>\n",
       "      <td>9.456886</td>\n",
       "      <td>10657.910157</td>\n",
       "      <td>102042.089843</td>\n",
       "    </tr>\n",
       "    <tr>\n",
       "      <th>3</th>\n",
       "      <td>01-04-2021</td>\n",
       "      <td>Thursday</td>\n",
       "      <td>M04</td>\n",
       "      <td>C</td>\n",
       "      <td>6</td>\n",
       "      <td>Mobiles</td>\n",
       "      <td>YouM</td>\n",
       "      <td>YM-99 Plus</td>\n",
       "      <td>20100</td>\n",
       "      <td>120600</td>\n",
       "      <td>6.935385</td>\n",
       "      <td>8364.074702</td>\n",
       "      <td>112235.925298</td>\n",
       "    </tr>\n",
       "    <tr>\n",
       "      <th>4</th>\n",
       "      <td>01-04-2021</td>\n",
       "      <td>Thursday</td>\n",
       "      <td>M05</td>\n",
       "      <td>C</td>\n",
       "      <td>3</td>\n",
       "      <td>Mobiles</td>\n",
       "      <td>YouM</td>\n",
       "      <td>YM-98</td>\n",
       "      <td>8100</td>\n",
       "      <td>24300</td>\n",
       "      <td>17.995663</td>\n",
       "      <td>4372.946230</td>\n",
       "      <td>19927.053770</td>\n",
       "    </tr>\n",
       "  </tbody>\n",
       "</table>\n",
       "</div>"
      ],
      "text/plain": [
       "         Date       Day  SKU City  Volume       BU  Brand       Model  \\\n",
       "0  01-04-2021  Thursday  M01    C      15  Mobiles  RealU       RU-10   \n",
       "1  01-04-2021  Thursday  M02    C      10  Mobiles  RealU   RU-9 Plus   \n",
       "2  01-04-2021  Thursday  M03    C       7  Mobiles   YouM       YM-99   \n",
       "3  01-04-2021  Thursday  M04    C       6  Mobiles   YouM  YM-99 Plus   \n",
       "4  01-04-2021  Thursday  M05    C       3  Mobiles   YouM      YM-98    \n",
       "\n",
       "   Avg Price  Total Sales Value  Discount Rate (%)  Discount Amount  \\\n",
       "0      12100             181500          11.654820     21153.498820   \n",
       "1      10100             101000          11.560498     11676.102961   \n",
       "2      16100             112700           9.456886     10657.910157   \n",
       "3      20100             120600           6.935385      8364.074702   \n",
       "4       8100              24300          17.995663      4372.946230   \n",
       "\n",
       "   Net Sales Value  \n",
       "0    160346.501180  \n",
       "1     89323.897039  \n",
       "2    102042.089843  \n",
       "3    112235.925298  \n",
       "4     19927.053770  "
      ]
     },
     "execution_count": 3,
     "metadata": {},
     "output_type": "execute_result"
    }
   ],
   "source": [
    "df.head()"
   ]
  },
  {
   "cell_type": "code",
   "execution_count": 4,
   "id": "7b067244-74eb-4a98-856b-cba4f15978d3",
   "metadata": {},
   "outputs": [
    {
     "data": {
      "text/html": [
       "<div>\n",
       "<style scoped>\n",
       "    .dataframe tbody tr th:only-of-type {\n",
       "        vertical-align: middle;\n",
       "    }\n",
       "\n",
       "    .dataframe tbody tr th {\n",
       "        vertical-align: top;\n",
       "    }\n",
       "\n",
       "    .dataframe thead th {\n",
       "        text-align: right;\n",
       "    }\n",
       "</style>\n",
       "<table border=\"1\" class=\"dataframe\">\n",
       "  <thead>\n",
       "    <tr style=\"text-align: right;\">\n",
       "      <th></th>\n",
       "      <th>Date</th>\n",
       "      <th>Day</th>\n",
       "      <th>SKU</th>\n",
       "      <th>City</th>\n",
       "      <th>Volume</th>\n",
       "      <th>BU</th>\n",
       "      <th>Brand</th>\n",
       "      <th>Model</th>\n",
       "      <th>Avg Price</th>\n",
       "      <th>Total Sales Value</th>\n",
       "      <th>Discount Rate (%)</th>\n",
       "      <th>Discount Amount</th>\n",
       "      <th>Net Sales Value</th>\n",
       "    </tr>\n",
       "  </thead>\n",
       "  <tbody>\n",
       "    <tr>\n",
       "      <th>445</th>\n",
       "      <td>15-04-2021</td>\n",
       "      <td>Thursday</td>\n",
       "      <td>L06</td>\n",
       "      <td>C</td>\n",
       "      <td>2</td>\n",
       "      <td>Lifestyle</td>\n",
       "      <td>Jeera</td>\n",
       "      <td>M-Casuals</td>\n",
       "      <td>1300</td>\n",
       "      <td>2600</td>\n",
       "      <td>15.475687</td>\n",
       "      <td>402.367873</td>\n",
       "      <td>2197.632127</td>\n",
       "    </tr>\n",
       "    <tr>\n",
       "      <th>446</th>\n",
       "      <td>15-04-2021</td>\n",
       "      <td>Thursday</td>\n",
       "      <td>L07</td>\n",
       "      <td>C</td>\n",
       "      <td>6</td>\n",
       "      <td>Lifestyle</td>\n",
       "      <td>Viva</td>\n",
       "      <td>W-Western</td>\n",
       "      <td>2600</td>\n",
       "      <td>15600</td>\n",
       "      <td>17.057027</td>\n",
       "      <td>2660.896242</td>\n",
       "      <td>12939.103758</td>\n",
       "    </tr>\n",
       "    <tr>\n",
       "      <th>447</th>\n",
       "      <td>15-04-2021</td>\n",
       "      <td>Thursday</td>\n",
       "      <td>L08</td>\n",
       "      <td>C</td>\n",
       "      <td>2</td>\n",
       "      <td>Lifestyle</td>\n",
       "      <td>Viva</td>\n",
       "      <td>W-Lounge</td>\n",
       "      <td>1600</td>\n",
       "      <td>3200</td>\n",
       "      <td>18.965550</td>\n",
       "      <td>606.897606</td>\n",
       "      <td>2593.102394</td>\n",
       "    </tr>\n",
       "    <tr>\n",
       "      <th>448</th>\n",
       "      <td>15-04-2021</td>\n",
       "      <td>Thursday</td>\n",
       "      <td>L09</td>\n",
       "      <td>C</td>\n",
       "      <td>3</td>\n",
       "      <td>Lifestyle</td>\n",
       "      <td>Jeera</td>\n",
       "      <td>M-Formals</td>\n",
       "      <td>1900</td>\n",
       "      <td>5700</td>\n",
       "      <td>16.793014</td>\n",
       "      <td>957.201826</td>\n",
       "      <td>4742.798174</td>\n",
       "    </tr>\n",
       "    <tr>\n",
       "      <th>449</th>\n",
       "      <td>15-04-2021</td>\n",
       "      <td>Thursday</td>\n",
       "      <td>L10</td>\n",
       "      <td>C</td>\n",
       "      <td>1</td>\n",
       "      <td>Lifestyle</td>\n",
       "      <td>Jeera</td>\n",
       "      <td>M-Shoes</td>\n",
       "      <td>3100</td>\n",
       "      <td>3100</td>\n",
       "      <td>15.333300</td>\n",
       "      <td>475.332295</td>\n",
       "      <td>2624.667705</td>\n",
       "    </tr>\n",
       "  </tbody>\n",
       "</table>\n",
       "</div>"
      ],
      "text/plain": [
       "           Date       Day  SKU City  Volume         BU  Brand      Model  \\\n",
       "445  15-04-2021  Thursday  L06    C       2  Lifestyle  Jeera  M-Casuals   \n",
       "446  15-04-2021  Thursday  L07    C       6  Lifestyle   Viva  W-Western   \n",
       "447  15-04-2021  Thursday  L08    C       2  Lifestyle   Viva   W-Lounge   \n",
       "448  15-04-2021  Thursday  L09    C       3  Lifestyle  Jeera  M-Formals   \n",
       "449  15-04-2021  Thursday  L10    C       1  Lifestyle  Jeera    M-Shoes   \n",
       "\n",
       "     Avg Price  Total Sales Value  Discount Rate (%)  Discount Amount  \\\n",
       "445       1300               2600          15.475687       402.367873   \n",
       "446       2600              15600          17.057027      2660.896242   \n",
       "447       1600               3200          18.965550       606.897606   \n",
       "448       1900               5700          16.793014       957.201826   \n",
       "449       3100               3100          15.333300       475.332295   \n",
       "\n",
       "     Net Sales Value  \n",
       "445      2197.632127  \n",
       "446     12939.103758  \n",
       "447      2593.102394  \n",
       "448      4742.798174  \n",
       "449      2624.667705  "
      ]
     },
     "execution_count": 4,
     "metadata": {},
     "output_type": "execute_result"
    }
   ],
   "source": [
    "df.tail()"
   ]
  },
  {
   "cell_type": "markdown",
   "id": "00aebb48-fd1e-4250-a806-167343c675e2",
   "metadata": {},
   "source": [
    "## Descriptive Analytics for Numerical Columns"
   ]
  },
  {
   "cell_type": "code",
   "execution_count": 5,
   "id": "d5a10ef8-906f-477e-965d-8715f6d6e152",
   "metadata": {},
   "outputs": [
    {
     "data": {
      "text/plain": [
       "(450, 13)"
      ]
     },
     "execution_count": 5,
     "metadata": {},
     "output_type": "execute_result"
    }
   ],
   "source": [
    "df.shape"
   ]
  },
  {
   "cell_type": "code",
   "execution_count": 6,
   "id": "713d2f97-cc65-43b7-a209-419c4631a52f",
   "metadata": {},
   "outputs": [
    {
     "name": "stdout",
     "output_type": "stream",
     "text": [
      "<class 'pandas.core.frame.DataFrame'>\n",
      "RangeIndex: 450 entries, 0 to 449\n",
      "Data columns (total 13 columns):\n",
      " #   Column             Non-Null Count  Dtype  \n",
      "---  ------             --------------  -----  \n",
      " 0   Date               450 non-null    object \n",
      " 1   Day                450 non-null    object \n",
      " 2   SKU                450 non-null    object \n",
      " 3   City               450 non-null    object \n",
      " 4   Volume             450 non-null    int64  \n",
      " 5   BU                 450 non-null    object \n",
      " 6   Brand              450 non-null    object \n",
      " 7   Model              450 non-null    object \n",
      " 8   Avg Price          450 non-null    int64  \n",
      " 9   Total Sales Value  450 non-null    int64  \n",
      " 10  Discount Rate (%)  450 non-null    float64\n",
      " 11  Discount Amount    450 non-null    float64\n",
      " 12  Net Sales Value    450 non-null    float64\n",
      "dtypes: float64(3), int64(3), object(7)\n",
      "memory usage: 45.8+ KB\n"
     ]
    }
   ],
   "source": [
    "df.info()"
   ]
  },
  {
   "cell_type": "code",
   "execution_count": 7,
   "id": "a0fab76d-c4e0-419c-a678-21944860e221",
   "metadata": {},
   "outputs": [
    {
     "data": {
      "text/plain": [
       "Date                 0\n",
       "Day                  0\n",
       "SKU                  0\n",
       "City                 0\n",
       "Volume               0\n",
       "BU                   0\n",
       "Brand                0\n",
       "Model                0\n",
       "Avg Price            0\n",
       "Total Sales Value    0\n",
       "Discount Rate (%)    0\n",
       "Discount Amount      0\n",
       "Net Sales Value      0\n",
       "dtype: int64"
      ]
     },
     "execution_count": 7,
     "metadata": {},
     "output_type": "execute_result"
    }
   ],
   "source": [
    "df.isnull().sum()"
   ]
  },
  {
   "cell_type": "code",
   "execution_count": 8,
   "id": "cb885c4d-d80c-40d3-ad5c-3ca21b736816",
   "metadata": {},
   "outputs": [
    {
     "data": {
      "text/plain": [
       "0"
      ]
     },
     "execution_count": 8,
     "metadata": {},
     "output_type": "execute_result"
    }
   ],
   "source": [
    "df.duplicated().sum()"
   ]
  },
  {
   "cell_type": "markdown",
   "id": "7cd4b379-5326-42f1-b906-214bc53f5742",
   "metadata": {},
   "source": [
    "## Statistical  Analysis Of Categorical Column"
   ]
  },
  {
   "cell_type": "code",
   "execution_count": 9,
   "id": "a7441d51-6a16-489a-8cb6-15418899dbea",
   "metadata": {},
   "outputs": [],
   "source": [
    "numerical_datas = df.select_dtypes(np.number)"
   ]
  },
  {
   "cell_type": "code",
   "execution_count": 10,
   "id": "f80a3614-7498-4690-a88c-baf164fd82fe",
   "metadata": {},
   "outputs": [
    {
     "data": {
      "text/html": [
       "<div>\n",
       "<style scoped>\n",
       "    .dataframe tbody tr th:only-of-type {\n",
       "        vertical-align: middle;\n",
       "    }\n",
       "\n",
       "    .dataframe tbody tr th {\n",
       "        vertical-align: top;\n",
       "    }\n",
       "\n",
       "    .dataframe thead th {\n",
       "        text-align: right;\n",
       "    }\n",
       "</style>\n",
       "<table border=\"1\" class=\"dataframe\">\n",
       "  <thead>\n",
       "    <tr style=\"text-align: right;\">\n",
       "      <th></th>\n",
       "      <th>Volume</th>\n",
       "      <th>Avg Price</th>\n",
       "      <th>Total Sales Value</th>\n",
       "      <th>Discount Rate (%)</th>\n",
       "      <th>Discount Amount</th>\n",
       "      <th>Net Sales Value</th>\n",
       "    </tr>\n",
       "  </thead>\n",
       "  <tbody>\n",
       "    <tr>\n",
       "      <th>0</th>\n",
       "      <td>15</td>\n",
       "      <td>12100</td>\n",
       "      <td>181500</td>\n",
       "      <td>11.654820</td>\n",
       "      <td>21153.498820</td>\n",
       "      <td>160346.501180</td>\n",
       "    </tr>\n",
       "    <tr>\n",
       "      <th>1</th>\n",
       "      <td>10</td>\n",
       "      <td>10100</td>\n",
       "      <td>101000</td>\n",
       "      <td>11.560498</td>\n",
       "      <td>11676.102961</td>\n",
       "      <td>89323.897039</td>\n",
       "    </tr>\n",
       "    <tr>\n",
       "      <th>2</th>\n",
       "      <td>7</td>\n",
       "      <td>16100</td>\n",
       "      <td>112700</td>\n",
       "      <td>9.456886</td>\n",
       "      <td>10657.910157</td>\n",
       "      <td>102042.089843</td>\n",
       "    </tr>\n",
       "    <tr>\n",
       "      <th>3</th>\n",
       "      <td>6</td>\n",
       "      <td>20100</td>\n",
       "      <td>120600</td>\n",
       "      <td>6.935385</td>\n",
       "      <td>8364.074702</td>\n",
       "      <td>112235.925298</td>\n",
       "    </tr>\n",
       "    <tr>\n",
       "      <th>4</th>\n",
       "      <td>3</td>\n",
       "      <td>8100</td>\n",
       "      <td>24300</td>\n",
       "      <td>17.995663</td>\n",
       "      <td>4372.946230</td>\n",
       "      <td>19927.053770</td>\n",
       "    </tr>\n",
       "  </tbody>\n",
       "</table>\n",
       "</div>"
      ],
      "text/plain": [
       "   Volume  Avg Price  Total Sales Value  Discount Rate (%)  Discount Amount  \\\n",
       "0      15      12100             181500          11.654820     21153.498820   \n",
       "1      10      10100             101000          11.560498     11676.102961   \n",
       "2       7      16100             112700           9.456886     10657.910157   \n",
       "3       6      20100             120600           6.935385      8364.074702   \n",
       "4       3       8100              24300          17.995663      4372.946230   \n",
       "\n",
       "   Net Sales Value  \n",
       "0    160346.501180  \n",
       "1     89323.897039  \n",
       "2    102042.089843  \n",
       "3    112235.925298  \n",
       "4     19927.053770  "
      ]
     },
     "execution_count": 10,
     "metadata": {},
     "output_type": "execute_result"
    }
   ],
   "source": [
    "numerical_datas.head()"
   ]
  },
  {
   "cell_type": "code",
   "execution_count": 11,
   "id": "fbfe49d4-1506-4c0c-aa2b-b79672a3cb0a",
   "metadata": {},
   "outputs": [
    {
     "data": {
      "text/plain": [
       "Volume                   5.066667\n",
       "Avg Price            10453.433333\n",
       "Total Sales Value    33812.835556\n",
       "Discount Rate (%)       15.155242\n",
       "Discount Amount       3346.499424\n",
       "Net Sales Value      30466.336131\n",
       "dtype: float64"
      ]
     },
     "execution_count": 11,
     "metadata": {},
     "output_type": "execute_result"
    }
   ],
   "source": [
    "numerical_datas.mean()"
   ]
  },
  {
   "cell_type": "code",
   "execution_count": 12,
   "id": "462eb809-c2e9-4fe1-b24f-dc9a88709209",
   "metadata": {},
   "outputs": [
    {
     "data": {
      "text/plain": [
       "Volume                  4.000000\n",
       "Avg Price            1450.000000\n",
       "Total Sales Value    5700.000000\n",
       "Discount Rate (%)      16.577766\n",
       "Discount Amount       988.933733\n",
       "Net Sales Value      4677.788059\n",
       "dtype: float64"
      ]
     },
     "execution_count": 12,
     "metadata": {},
     "output_type": "execute_result"
    }
   ],
   "source": [
    "numerical_datas.median()"
   ]
  },
  {
   "cell_type": "code",
   "execution_count": 13,
   "id": "e4949278-a4da-4cf2-befd-e987e5425c07",
   "metadata": {},
   "outputs": [
    {
     "data": {
      "text/html": [
       "<div>\n",
       "<style scoped>\n",
       "    .dataframe tbody tr th:only-of-type {\n",
       "        vertical-align: middle;\n",
       "    }\n",
       "\n",
       "    .dataframe tbody tr th {\n",
       "        vertical-align: top;\n",
       "    }\n",
       "\n",
       "    .dataframe thead th {\n",
       "        text-align: right;\n",
       "    }\n",
       "</style>\n",
       "<table border=\"1\" class=\"dataframe\">\n",
       "  <thead>\n",
       "    <tr style=\"text-align: right;\">\n",
       "      <th></th>\n",
       "      <th>Volume</th>\n",
       "      <th>Avg Price</th>\n",
       "      <th>Total Sales Value</th>\n",
       "      <th>Discount Rate (%)</th>\n",
       "      <th>Discount Amount</th>\n",
       "      <th>Net Sales Value</th>\n",
       "    </tr>\n",
       "  </thead>\n",
       "  <tbody>\n",
       "    <tr>\n",
       "      <th>0</th>\n",
       "      <td>3.0</td>\n",
       "      <td>400.0</td>\n",
       "      <td>24300.0</td>\n",
       "      <td>5.007822</td>\n",
       "      <td>69.177942</td>\n",
       "      <td>326.974801</td>\n",
       "    </tr>\n",
       "    <tr>\n",
       "      <th>1</th>\n",
       "      <td>NaN</td>\n",
       "      <td>450.0</td>\n",
       "      <td>NaN</td>\n",
       "      <td>5.055218</td>\n",
       "      <td>73.025199</td>\n",
       "      <td>330.822058</td>\n",
       "    </tr>\n",
       "    <tr>\n",
       "      <th>2</th>\n",
       "      <td>NaN</td>\n",
       "      <td>500.0</td>\n",
       "      <td>NaN</td>\n",
       "      <td>5.059801</td>\n",
       "      <td>93.649161</td>\n",
       "      <td>466.350839</td>\n",
       "    </tr>\n",
       "    <tr>\n",
       "      <th>3</th>\n",
       "      <td>NaN</td>\n",
       "      <td>1300.0</td>\n",
       "      <td>NaN</td>\n",
       "      <td>5.072124</td>\n",
       "      <td>94.682735</td>\n",
       "      <td>485.317265</td>\n",
       "    </tr>\n",
       "    <tr>\n",
       "      <th>4</th>\n",
       "      <td>NaN</td>\n",
       "      <td>8100.0</td>\n",
       "      <td>NaN</td>\n",
       "      <td>5.084108</td>\n",
       "      <td>102.705757</td>\n",
       "      <td>496.607104</td>\n",
       "    </tr>\n",
       "    <tr>\n",
       "      <th>...</th>\n",
       "      <td>...</td>\n",
       "      <td>...</td>\n",
       "      <td>...</td>\n",
       "      <td>...</td>\n",
       "      <td>...</td>\n",
       "      <td>...</td>\n",
       "    </tr>\n",
       "    <tr>\n",
       "      <th>445</th>\n",
       "      <td>NaN</td>\n",
       "      <td>NaN</td>\n",
       "      <td>NaN</td>\n",
       "      <td>19.940610</td>\n",
       "      <td>17900.983733</td>\n",
       "      <td>162603.186379</td>\n",
       "    </tr>\n",
       "    <tr>\n",
       "      <th>446</th>\n",
       "      <td>NaN</td>\n",
       "      <td>NaN</td>\n",
       "      <td>NaN</td>\n",
       "      <td>19.965340</td>\n",
       "      <td>21153.498820</td>\n",
       "      <td>163915.971000</td>\n",
       "    </tr>\n",
       "    <tr>\n",
       "      <th>447</th>\n",
       "      <td>NaN</td>\n",
       "      <td>NaN</td>\n",
       "      <td>NaN</td>\n",
       "      <td>19.976879</td>\n",
       "      <td>21496.675367</td>\n",
       "      <td>163967.080070</td>\n",
       "    </tr>\n",
       "    <tr>\n",
       "      <th>448</th>\n",
       "      <td>NaN</td>\n",
       "      <td>NaN</td>\n",
       "      <td>NaN</td>\n",
       "      <td>19.982257</td>\n",
       "      <td>25328.224204</td>\n",
       "      <td>166263.161348</td>\n",
       "    </tr>\n",
       "    <tr>\n",
       "      <th>449</th>\n",
       "      <td>NaN</td>\n",
       "      <td>NaN</td>\n",
       "      <td>NaN</td>\n",
       "      <td>19.992407</td>\n",
       "      <td>25738.022194</td>\n",
       "      <td>179507.479049</td>\n",
       "    </tr>\n",
       "  </tbody>\n",
       "</table>\n",
       "<p>450 rows × 6 columns</p>\n",
       "</div>"
      ],
      "text/plain": [
       "     Volume  Avg Price  Total Sales Value  Discount Rate (%)  Discount Amount  \\\n",
       "0       3.0      400.0            24300.0           5.007822        69.177942   \n",
       "1       NaN      450.0                NaN           5.055218        73.025199   \n",
       "2       NaN      500.0                NaN           5.059801        93.649161   \n",
       "3       NaN     1300.0                NaN           5.072124        94.682735   \n",
       "4       NaN     8100.0                NaN           5.084108       102.705757   \n",
       "..      ...        ...                ...                ...              ...   \n",
       "445     NaN        NaN                NaN          19.940610     17900.983733   \n",
       "446     NaN        NaN                NaN          19.965340     21153.498820   \n",
       "447     NaN        NaN                NaN          19.976879     21496.675367   \n",
       "448     NaN        NaN                NaN          19.982257     25328.224204   \n",
       "449     NaN        NaN                NaN          19.992407     25738.022194   \n",
       "\n",
       "     Net Sales Value  \n",
       "0         326.974801  \n",
       "1         330.822058  \n",
       "2         466.350839  \n",
       "3         485.317265  \n",
       "4         496.607104  \n",
       "..               ...  \n",
       "445    162603.186379  \n",
       "446    163915.971000  \n",
       "447    163967.080070  \n",
       "448    166263.161348  \n",
       "449    179507.479049  \n",
       "\n",
       "[450 rows x 6 columns]"
      ]
     },
     "execution_count": 13,
     "metadata": {},
     "output_type": "execute_result"
    }
   ],
   "source": [
    "numerical_datas.mode()"
   ]
  },
  {
   "cell_type": "code",
   "execution_count": 14,
   "id": "a1d75e38-1b97-4091-88a4-ad525c37c371",
   "metadata": {},
   "outputs": [
    {
     "data": {
      "text/plain": [
       "Volume                   4.231602\n",
       "Avg Price            18079.904840\n",
       "Total Sales Value    50535.074173\n",
       "Discount Rate (%)        4.220602\n",
       "Discount Amount       4509.902963\n",
       "Net Sales Value      46358.656624\n",
       "dtype: float64"
      ]
     },
     "execution_count": 14,
     "metadata": {},
     "output_type": "execute_result"
    }
   ],
   "source": [
    "numerical_datas.std()"
   ]
  },
  {
   "cell_type": "raw",
   "id": "0251f9d5-ecf8-48c5-9268-6b48bb6a3741",
   "metadata": {},
   "source": [
    "Mean, median and mode are three measures of central tendency of data. \n",
    "Accordingly, they give what is the value towards which the data have tendency to move. \n",
    "For a right-skewed distribution, Mean >= Median >= Mode.\n",
    "For a left-skewed distribution, Mode >= Median >=Mean.\n",
    "For perfect normal distribution, Mean=Median=Mode."
   ]
  },
  {
   "cell_type": "markdown",
   "id": "d1a81542-84b4-4c8d-97bd-659867b49e54",
   "metadata": {},
   "source": [
    "## Visual Analysis Of Numerical Columns"
   ]
  },
  {
   "cell_type": "code",
   "execution_count": 16,
   "id": "8b1c7ee1-5f47-4af4-aea3-153f19198d99",
   "metadata": {},
   "outputs": [],
   "source": [
    "import matplotlib.pyplot as plt"
   ]
  },
  {
   "cell_type": "code",
   "execution_count": 17,
   "id": "c003cc10-56d1-48b1-8acb-e89333c43cde",
   "metadata": {},
   "outputs": [
    {
     "data": {
      "image/png": "[encoded data removed]",
      "text/plain": [
       "<Figure size 640x480 with 1 Axes>"
      ]
     },
     "metadata": {},
     "output_type": "display_data"
    }
   ],
   "source": [
    "plt.hist(numerical_datas['Avg Price'])\n",
    "plt.show()"
   ]
  },
  {
   "cell_type": "raw",
   "id": "b4931dce-2d62-4a34-96f7-588efa3bdf92",
   "metadata": {},
   "source": [
    "For the 'Avg Price' column in the dataset, we have calculated the mean and median showing median (1450.000000) < mean (10453.433333).\n",
    "Which is also shown in the histogram. As median < mean, histogram is showing positive skewness.\n",
    "Here outliers are lying somewhere between 48000 to 60000."
   ]
  },
  {
   "cell_type": "code",
   "execution_count": 19,
   "id": "3edb05c6-5921-4b68-acb0-c1454cfbb1b5",
   "metadata": {},
   "outputs": [
    {
     "data": {
      "image/png": "[encoded data removed]",
      "text/plain": [
       "<Figure size 640x480 with 1 Axes>"
      ]
     },
     "metadata": {},
     "output_type": "display_data"
    }
   ],
   "source": [
    "plt.hist(numerical_datas['Discount Amount'])\n",
    "plt.show()"
   ]
  },
  {
   "cell_type": "raw",
   "id": "012b4055-3896-4b91-b0d6-86ed02c52c97",
   "metadata": {},
   "source": [
    "For the 'Discount Amount' column in the dataset, we have calculated the mean and median showing median (988.933733) < mean (3346.499424).\n",
    "Which is also shown in the histogram. As median > mean, histogram is showing positive skewness.\n",
    "No outliers present for the column 'Discount Amount'."
   ]
  },
  {
   "cell_type": "code",
   "execution_count": null,
   "id": "02bca1d0-abfe-4061-bd01-b1840b46af8c",
   "metadata": {},
   "outputs": [],
   "source": [
    "plt.hist(numerical_datas['Discount Rate (%)'])\n",
    "plt.show()"
   ]
  },
  {
   "cell_type": "code",
   "execution_count": 22,
   "id": "3b1c6a39-ff06-4e95-ad28-10f1e978dfeb",
   "metadata": {},
   "outputs": [],
   "source": [
    "# For the 'Discount Rate' column in the dataset, we have calculated the mean and median showing median (16.577766) > mean (15.155242).\n",
    "# Which is also shown in the histogram. As median > mean, histogram is showing negative skewness.\n",
    "# No outliers present for the column 'Discount Rate'."
   ]
  },
  {
   "cell_type": "code",
   "execution_count": 23,
   "id": "ec998df9-4247-4337-8093-3ca7e928723a",
   "metadata": {},
   "outputs": [
    {
     "data": {
      "image/png": "[encoded data removed]",
      "text/plain": [
       "<Figure size 640x480 with 1 Axes>"
      ]
     },
     "metadata": {},
     "output_type": "display_data"
    }
   ],
   "source": [
    "plt.hist(numerical_datas['Net Sales Value'])\n",
    "plt.show()"
   ]
  },
  {
   "cell_type": "raw",
   "id": "7936b62b-dc35-4a33-991d-9c87427ab2df",
   "metadata": {},
   "source": [
    "For the 'Net Sales Value' column in the dataset, we have calculated the mean and median showing median (4677.788059) < mean (30466.336131).\n",
    "Which is also shown in the histogram. As median > mean, histogram is showing positive skewness.\n",
    "No ouliers present for the column 'Net Sales Value'."
   ]
  },
  {
   "cell_type": "code",
   "execution_count": 25,
   "id": "7c2c0061-2c0a-4db6-8e09-9ecb61a4df90",
   "metadata": {},
   "outputs": [
    {
     "data": {
      "image/png": "[encoded data removed]",
      "text/plain": [
       "<Figure size 640x480 with 1 Axes>"
      ]
     },
     "metadata": {},
     "output_type": "display_data"
    }
   ],
   "source": [
    "plt.hist(numerical_datas['Volume'])\n",
    "plt.show()"
   ]
  },
  {
   "cell_type": "raw",
   "id": "37355c77-9cd1-48b4-9b82-f56f537722b3",
   "metadata": {},
   "source": [
    "For the 'Volume' column in the dataset, we have calculated the mean and median showing median (4.000000) < mean (5.066667).\n",
    "Which is also shown in the histogram. As median < mean, histogram is showing positive skewness.\n",
    "Histogram is also useful for detecting the outliers in the dataset / data sample. Here outliers are lying somewhere between 22-25 and 28-31."
   ]
  },
  {
   "cell_type": "code",
   "execution_count": 27,
   "id": "e3cfafae-0643-45e4-9f32-1f68513c9eb7",
   "metadata": {},
   "outputs": [
    {
     "data": {
      "image/png": "[encoded data removed]",
      "text/plain": [
       "<Figure size 640x480 with 1 Axes>"
      ]
     },
     "metadata": {},
     "output_type": "display_data"
    }
   ],
   "source": [
    "plt.hist(numerical_datas['Total Sales Value'])\n",
    "plt.show()"
   ]
  },
  {
   "cell_type": "raw",
   "id": "344ed8c8-cb82-42a4-98fe-05e445ad119d",
   "metadata": {},
   "source": [
    "For the 'Total Sales Value' column in the dataset, we have calculated the mean and median showing median (5700.000000) < mean (33812.835556).\n",
    "Which is also shown in the histogram. As median < mean, histogram is showing positive skewness.\n",
    "No outliers present for the column 'Total Sales Value'."
   ]
  },
  {
   "cell_type": "markdown",
   "id": "34b50e1c-0220-4dee-9291-f908c9bcfd86",
   "metadata": {},
   "source": [
    "## BoxPlot Analysis for Numerical Columns"
   ]
  },
  {
   "cell_type": "code",
   "execution_count": 31,
   "id": "5f059c1c-b324-42d3-b5c6-32cfcc2a14e3",
   "metadata": {},
   "outputs": [
    {
     "data": {
      "text/plain": [
       "<function matplotlib.pyplot.show(close=None, block=None)>"
      ]
     },
     "execution_count": 31,
     "metadata": {},
     "output_type": "execute_result"
    },
    {
     "data": {
      "image/png": "[encoded data removed]",
      "text/plain": [
       "<Figure size 640x480 with 1 Axes>"
      ]
     },
     "metadata": {},
     "output_type": "display_data"
    }
   ],
   "source": [
    "boxplot_data = numerical_datas.dropna()\n",
    "boxplot_volume = boxplot_data['Volume']\n",
    "plt.boxplot(boxplot_volume)\n",
    "plt.show"
   ]
  },
  {
   "cell_type": "raw",
   "id": "114afd6a-cced-4915-9026-9e2e60733b8c",
   "metadata": {},
   "source": [
    "As shown in the histogram, the outliers are present for 'Volume' column. The same is detected by the boxplot. \n",
    "Also the median is less than the mean of 'Volume' Column."
   ]
  },
  {
   "cell_type": "code",
   "execution_count": 32,
   "id": "e2cde4f9-0b70-40ea-b723-4ac4cd83ada0",
   "metadata": {},
   "outputs": [
    {
     "data": {
      "text/plain": [
       "<function matplotlib.pyplot.show(close=None, block=None)>"
      ]
     },
     "execution_count": 32,
     "metadata": {},
     "output_type": "execute_result"
    },
    {
     "data": {
      "image/png": "[encoded data removed]",
      "text/plain": [
       "<Figure size 640x480 with 1 Axes>"
      ]
     },
     "metadata": {},
     "output_type": "display_data"
    }
   ],
   "source": [
    "boxplot_tsalesval = boxplot_data['Total Sales Value']\n",
    "plt.boxplot(boxplot_tsalesval)\n",
    "plt.show"
   ]
  },
  {
   "cell_type": "raw",
   "id": "7c91728d-788a-43b9-b0df-424b844a79e7",
   "metadata": {},
   "source": [
    "here mean>median and there are outliers present at the top side of the boxplot"
   ]
  },
  {
   "cell_type": "code",
   "execution_count": 33,
   "id": "c792cfb8-4c4c-4393-8025-b87d162ed073",
   "metadata": {},
   "outputs": [
    {
     "data": {
      "text/plain": [
       "<function matplotlib.pyplot.show(close=None, block=None)>"
      ]
     },
     "execution_count": 33,
     "metadata": {},
     "output_type": "execute_result"
    },
    {
     "data": {
      "image/png": "[encoded data removed]",
      "text/plain": [
       "<Figure size 640x480 with 1 Axes>"
      ]
     },
     "metadata": {},
     "output_type": "display_data"
    }
   ],
   "source": [
    "boxplot_Disrate = boxplot_data['Discount Rate (%)']\n",
    "plt.boxplot(boxplot_Disrate)\n",
    "plt.show"
   ]
  },
  {
   "cell_type": "raw",
   "id": "95b20b24-dc1e-4fc0-827b-03f3440bc282",
   "metadata": {},
   "source": [
    "here median>mean and there are outliers present at the bottom side of the boxplot"
   ]
  },
  {
   "cell_type": "code",
   "execution_count": 34,
   "id": "55631344-79c7-4259-846a-56a4718e881e",
   "metadata": {},
   "outputs": [
    {
     "data": {
      "text/plain": [
       "<function matplotlib.pyplot.show(close=None, block=None)>"
      ]
     },
     "execution_count": 34,
     "metadata": {},
     "output_type": "execute_result"
    },
    {
     "data": {
      "image/png": "[encoded data removed]",
      "text/plain": [
       "<Figure size 640x480 with 1 Axes>"
      ]
     },
     "metadata": {},
     "output_type": "display_data"
    }
   ],
   "source": [
    "boxplot_Disamt = boxplot_data['Discount Amount']\n",
    "plt.boxplot(boxplot_Disamt)\n",
    "plt.show"
   ]
  },
  {
   "cell_type": "raw",
   "id": "2ae7aa95-3001-4bd1-b344-87e2c32ad5f0",
   "metadata": {},
   "source": [
    "here mean>median and there are outliers present at the top side of the boxplot"
   ]
  },
  {
   "cell_type": "code",
   "execution_count": 35,
   "id": "3dbcd815-f45c-4f36-9bb0-7366a64eeb59",
   "metadata": {},
   "outputs": [
    {
     "data": {
      "text/plain": [
       "<function matplotlib.pyplot.show(close=None, block=None)>"
      ]
     },
     "execution_count": 35,
     "metadata": {},
     "output_type": "execute_result"
    },
    {
     "data": {
      "image/png": "[encoded data removed]",
      "text/plain": [
       "<Figure size 640x480 with 1 Axes>"
      ]
     },
     "metadata": {},
     "output_type": "display_data"
    }
   ],
   "source": [
    "boxplot_avg_price = boxplot_data['Avg Price']\n",
    "plt.boxplot(boxplot_avg_price)\n",
    "plt.show"
   ]
  },
  {
   "cell_type": "raw",
   "id": "6de89f04-b102-47fd-9884-38d8ba0390e1",
   "metadata": {},
   "source": [
    "here mean>median and there are some outliers present at the top side of the boxplot"
   ]
  },
  {
   "cell_type": "code",
   "execution_count": 36,
   "id": "cf7bb6b3-0f01-4896-99f6-64b4b475661e",
   "metadata": {},
   "outputs": [
    {
     "data": {
      "text/plain": [
       "<function matplotlib.pyplot.show(close=None, block=None)>"
      ]
     },
     "execution_count": 36,
     "metadata": {},
     "output_type": "execute_result"
    },
    {
     "data": {
      "image/png": "[encoded data removed]",
      "text/plain": [
       "<Figure size 640x480 with 1 Axes>"
      ]
     },
     "metadata": {},
     "output_type": "display_data"
    }
   ],
   "source": [
    "boxplot_nsales = boxplot_data['Net Sales Value']\n",
    "plt.boxplot(boxplot_nsales)\n",
    "plt.show"
   ]
  },
  {
   "cell_type": "raw",
   "id": "4f16cd6d-777b-44ca-b358-28c9ec99ea3a",
   "metadata": {},
   "source": [
    "here mean>median and there are outliers present at the top side of the boxplot"
   ]
  },
  {
   "cell_type": "markdown",
   "id": "068f10c0-74f4-48db-927e-15460cfff152",
   "metadata": {},
   "source": [
    "## Bar Chart Analysis for Categorical Column"
   ]
  },
  {
   "cell_type": "code",
   "execution_count": 39,
   "id": "8426197f-7b37-400b-b2af-faf64f4ddce4",
   "metadata": {},
   "outputs": [],
   "source": [
    "categorical_data = df.select_dtypes(exclude = np.number , )"
   ]
  },
  {
   "cell_type": "code",
   "execution_count": 40,
   "id": "36522a8f-ade4-4eda-a2b4-145c97155655",
   "metadata": {},
   "outputs": [
    {
     "data": {
      "text/html": [
       "<div>\n",
       "<style scoped>\n",
       "    .dataframe tbody tr th:only-of-type {\n",
       "        vertical-align: middle;\n",
       "    }\n",
       "\n",
       "    .dataframe tbody tr th {\n",
       "        vertical-align: top;\n",
       "    }\n",
       "\n",
       "    .dataframe thead th {\n",
       "        text-align: right;\n",
       "    }\n",
       "</style>\n",
       "<table border=\"1\" class=\"dataframe\">\n",
       "  <thead>\n",
       "    <tr style=\"text-align: right;\">\n",
       "      <th></th>\n",
       "      <th>Date</th>\n",
       "      <th>Day</th>\n",
       "      <th>SKU</th>\n",
       "      <th>City</th>\n",
       "      <th>BU</th>\n",
       "      <th>Brand</th>\n",
       "      <th>Model</th>\n",
       "    </tr>\n",
       "  </thead>\n",
       "  <tbody>\n",
       "    <tr>\n",
       "      <th>0</th>\n",
       "      <td>01-04-2021</td>\n",
       "      <td>Thursday</td>\n",
       "      <td>M01</td>\n",
       "      <td>C</td>\n",
       "      <td>Mobiles</td>\n",
       "      <td>RealU</td>\n",
       "      <td>RU-10</td>\n",
       "    </tr>\n",
       "    <tr>\n",
       "      <th>1</th>\n",
       "      <td>01-04-2021</td>\n",
       "      <td>Thursday</td>\n",
       "      <td>M02</td>\n",
       "      <td>C</td>\n",
       "      <td>Mobiles</td>\n",
       "      <td>RealU</td>\n",
       "      <td>RU-9 Plus</td>\n",
       "    </tr>\n",
       "    <tr>\n",
       "      <th>2</th>\n",
       "      <td>01-04-2021</td>\n",
       "      <td>Thursday</td>\n",
       "      <td>M03</td>\n",
       "      <td>C</td>\n",
       "      <td>Mobiles</td>\n",
       "      <td>YouM</td>\n",
       "      <td>YM-99</td>\n",
       "    </tr>\n",
       "    <tr>\n",
       "      <th>3</th>\n",
       "      <td>01-04-2021</td>\n",
       "      <td>Thursday</td>\n",
       "      <td>M04</td>\n",
       "      <td>C</td>\n",
       "      <td>Mobiles</td>\n",
       "      <td>YouM</td>\n",
       "      <td>YM-99 Plus</td>\n",
       "    </tr>\n",
       "    <tr>\n",
       "      <th>4</th>\n",
       "      <td>01-04-2021</td>\n",
       "      <td>Thursday</td>\n",
       "      <td>M05</td>\n",
       "      <td>C</td>\n",
       "      <td>Mobiles</td>\n",
       "      <td>YouM</td>\n",
       "      <td>YM-98</td>\n",
       "    </tr>\n",
       "  </tbody>\n",
       "</table>\n",
       "</div>"
      ],
      "text/plain": [
       "         Date       Day  SKU City       BU  Brand       Model\n",
       "0  01-04-2021  Thursday  M01    C  Mobiles  RealU       RU-10\n",
       "1  01-04-2021  Thursday  M02    C  Mobiles  RealU   RU-9 Plus\n",
       "2  01-04-2021  Thursday  M03    C  Mobiles   YouM       YM-99\n",
       "3  01-04-2021  Thursday  M04    C  Mobiles   YouM  YM-99 Plus\n",
       "4  01-04-2021  Thursday  M05    C  Mobiles   YouM      YM-98 "
      ]
     },
     "execution_count": 40,
     "metadata": {},
     "output_type": "execute_result"
    }
   ],
   "source": [
    "categorical_data.head()"
   ]
  },
  {
   "cell_type": "code",
   "execution_count": 41,
   "id": "d9e44580-180e-424f-ad89-e29d612acfa7",
   "metadata": {},
   "outputs": [],
   "source": [
    "categorical_data.drop(axis = 1 , columns= 'Date' , inplace = True)"
   ]
  },
  {
   "cell_type": "code",
   "execution_count": 43,
   "id": "9bbe9837-5ad0-417c-8b8d-2f335d6cd115",
   "metadata": {},
   "outputs": [],
   "source": [
    "import seaborn as sns"
   ]
  },
  {
   "cell_type": "code",
   "execution_count": 49,
   "id": "c65e196e-34ac-46b2-b2c5-813a3f7ab22a",
   "metadata": {},
   "outputs": [
    {
     "data": {
      "image/png": "[encoded data removed]",
      "text/plain": [
       "<Figure size 800x600 with 1 Axes>"
      ]
     },
     "metadata": {},
     "output_type": "display_data"
    }
   ],
   "source": [
    "plt.figure(figsize= (8 , 6))\n",
    "sns.barplot(data = categorical_data['Day'].value_counts())\n",
    "plt.show()"
   ]
  },
  {
   "cell_type": "code",
   "execution_count": 51,
   "id": "0188fac0-91e3-4d37-8a9f-41283e97cfe2",
   "metadata": {},
   "outputs": [
    {
     "data": {
      "image/png": "[encoded data removed]",
      "text/plain": [
       "<Figure size 1000x600 with 1 Axes>"
      ]
     },
     "metadata": {},
     "output_type": "display_data"
    }
   ],
   "source": [
    "plt.figure(figsize= (10 , 6))\n",
    "sns.barplot(data = categorical_data['SKU'].value_counts())\n",
    "plt.show()"
   ]
  },
  {
   "cell_type": "code",
   "execution_count": 61,
   "id": "39d9c9da-127e-4708-8647-1e6a954d4e8d",
   "metadata": {},
   "outputs": [
    {
     "data": {
      "image/png": "[encoded data removed]",
      "text/plain": [
       "<Figure size 1000x600 with 1 Axes>"
      ]
     },
     "metadata": {},
     "output_type": "display_data"
    }
   ],
   "source": [
    "plt.figure(figsize= (10 , 6))\n",
    "sns.barplot(data = categorical_data['City'].value_counts())\n",
    "plt.show()"
   ]
  },
  {
   "cell_type": "code",
   "execution_count": 53,
   "id": "9f8dce5d-b10c-4165-9a50-9583c5599a64",
   "metadata": {},
   "outputs": [
    {
     "data": {
      "image/png": "[encoded data removed]",
      "text/plain": [
       "<Figure size 1000x600 with 1 Axes>"
      ]
     },
     "metadata": {},
     "output_type": "display_data"
    }
   ],
   "source": [
    "plt.figure(figsize= (10 , 6))\n",
    "sns.barplot(data = categorical_data['BU'].value_counts())\n",
    "plt.show()"
   ]
  },
  {
   "cell_type": "code",
   "execution_count": 54,
   "id": "4b82bd62-201c-4d08-97ed-cc9d65c62e45",
   "metadata": {},
   "outputs": [
    {
     "data": {
      "image/png": "[encoded data removed]",
      "text/plain": [
       "<Figure size 1000x600 with 1 Axes>"
      ]
     },
     "metadata": {},
     "output_type": "display_data"
    }
   ],
   "source": [
    "plt.figure(figsize= (10 , 6))\n",
    "sns.barplot(data = categorical_data['Brand'].value_counts())\n",
    "plt.show()"
   ]
  },
  {
   "cell_type": "code",
   "execution_count": 57,
   "id": "7d56aec9-ed45-49bc-a6bd-2740b773787e",
   "metadata": {},
   "outputs": [
    {
     "data": {
      "image/png": "[encoded data removed]",
      "text/plain": [
       "<Figure size 1200x600 with 1 Axes>"
      ]
     },
     "metadata": {},
     "output_type": "display_data"
    }
   ],
   "source": [
    "plt.figure(figsize= (12 , 6))\n",
    "sns.barplot(data = categorical_data['Model'].value_counts())\n",
    "plt.xticks(rotation = 'vertical')\n",
    "plt.show()"
   ]
  },
  {
   "cell_type": "markdown",
   "id": "5b3df02c-b058-40f2-acdc-72c4b0540c24",
   "metadata": {},
   "source": [
    "## Standardization"
   ]
  },
  {
   "cell_type": "raw",
   "id": "b46d2aab-d61f-435b-b75a-83c32629f965",
   "metadata": {},
   "source": [
    "Data standardization is converting data into a standard format that computers can easily understand and use. For example, when you standardize data, you might convert all measurements into the metric system or all dates into a single format (such as YYYY-MM-DD)"
   ]
  },
  {
   "cell_type": "code",
   "execution_count": 62,
   "id": "21aab0e1-640a-4a42-be2d-a8b6fc58196c",
   "metadata": {},
   "outputs": [],
   "source": [
    "from sklearn.preprocessing import StandardScaler"
   ]
  },
  {
   "cell_type": "code",
   "execution_count": 66,
   "id": "8b4b5065-7861-4bca-ac81-c112247ce46b",
   "metadata": {},
   "outputs": [],
   "source": [
    "array_data = numerical_datas.values"
   ]
  },
  {
   "cell_type": "code",
   "execution_count": 70,
   "id": "f1102224-cdcd-4968-aa96-3f007207e0f8",
   "metadata": {},
   "outputs": [],
   "source": [
    "std_scaler = StandardScaler()\n",
    "scaled_data = std_scaler.fit_transform(array_data)"
   ]
  },
  {
   "cell_type": "code",
   "execution_count": 71,
   "id": "0978f455-e9a0-47dd-85d1-29967826fdfa",
   "metadata": {},
   "outputs": [
    {
     "data": {
      "text/plain": [
       "array([[ 2.35002911,  0.091173  ,  2.92572115, -0.83028851,  3.95281631,\n",
       "         2.80475594],\n",
       "       [ 1.16712855, -0.01957016,  1.33099521, -0.85266145,  1.84901409,\n",
       "         1.2710262 ],\n",
       "       [ 0.45738822,  0.31265934,  1.56277525, -1.35163138,  1.62299458,\n",
       "         1.54567497],\n",
       "       ...,\n",
       "       [-0.72551234, -0.49022863, -0.60644824,  0.90379261, -0.60813967,\n",
       "        -0.60192115],\n",
       "       [-0.48893223, -0.47361715, -0.55692259,  0.38847428, -0.53037877,\n",
       "        -0.55549857],\n",
       "       [-0.96209245, -0.40717125, -0.60842926,  0.04223476, -0.63734468,\n",
       "        -0.60123949]])"
      ]
     },
     "execution_count": 71,
     "metadata": {},
     "output_type": "execute_result"
    }
   ],
   "source": [
    "scaled_data"
   ]
  },
  {
   "cell_type": "markdown",
   "id": "864cd8a1-38ff-41fe-aceb-b069a273088c",
   "metadata": {},
   "source": [
    "## Conversion of Categorical Data into Dummy Variables"
   ]
  },
  {
   "cell_type": "code",
   "execution_count": 74,
   "id": "af71380c-0784-4d43-bf30-386ad1ce6820",
   "metadata": {},
   "outputs": [],
   "source": [
    "converted_df = pd.get_dummies(df , columns= ['Day', 'SKU', 'City', 'BU', 'Brand', 'Model'] , dtype = int)"
   ]
  },
  {
   "cell_type": "code",
   "execution_count": 75,
   "id": "4581196c-fddc-40bd-ac04-f1c2033557f9",
   "metadata": {},
   "outputs": [
    {
     "data": {
      "text/html": [
       "<div>\n",
       "<style scoped>\n",
       "    .dataframe tbody tr th:only-of-type {\n",
       "        vertical-align: middle;\n",
       "    }\n",
       "\n",
       "    .dataframe tbody tr th {\n",
       "        vertical-align: top;\n",
       "    }\n",
       "\n",
       "    .dataframe thead th {\n",
       "        text-align: right;\n",
       "    }\n",
       "</style>\n",
       "<table border=\"1\" class=\"dataframe\">\n",
       "  <thead>\n",
       "    <tr style=\"text-align: right;\">\n",
       "      <th></th>\n",
       "      <th>Date</th>\n",
       "      <th>Volume</th>\n",
       "      <th>Avg Price</th>\n",
       "      <th>Total Sales Value</th>\n",
       "      <th>Discount Rate (%)</th>\n",
       "      <th>Discount Amount</th>\n",
       "      <th>Net Sales Value</th>\n",
       "      <th>Day_Friday</th>\n",
       "      <th>Day_Monday</th>\n",
       "      <th>Day_Saturday</th>\n",
       "      <th>...</th>\n",
       "      <th>Model_Vedic Cream</th>\n",
       "      <th>Model_Vedic Oil</th>\n",
       "      <th>Model_Vedic Shampoo</th>\n",
       "      <th>Model_W-Casuals</th>\n",
       "      <th>Model_W-Inners</th>\n",
       "      <th>Model_W-Lounge</th>\n",
       "      <th>Model_W-Western</th>\n",
       "      <th>Model_YM-98</th>\n",
       "      <th>Model_YM-99</th>\n",
       "      <th>Model_YM-99 Plus</th>\n",
       "    </tr>\n",
       "  </thead>\n",
       "  <tbody>\n",
       "    <tr>\n",
       "      <th>0</th>\n",
       "      <td>01-04-2021</td>\n",
       "      <td>15</td>\n",
       "      <td>12100</td>\n",
       "      <td>181500</td>\n",
       "      <td>11.654820</td>\n",
       "      <td>21153.498820</td>\n",
       "      <td>160346.501180</td>\n",
       "      <td>0</td>\n",
       "      <td>0</td>\n",
       "      <td>0</td>\n",
       "      <td>...</td>\n",
       "      <td>0</td>\n",
       "      <td>0</td>\n",
       "      <td>0</td>\n",
       "      <td>0</td>\n",
       "      <td>0</td>\n",
       "      <td>0</td>\n",
       "      <td>0</td>\n",
       "      <td>0</td>\n",
       "      <td>0</td>\n",
       "      <td>0</td>\n",
       "    </tr>\n",
       "    <tr>\n",
       "      <th>1</th>\n",
       "      <td>01-04-2021</td>\n",
       "      <td>10</td>\n",
       "      <td>10100</td>\n",
       "      <td>101000</td>\n",
       "      <td>11.560498</td>\n",
       "      <td>11676.102961</td>\n",
       "      <td>89323.897039</td>\n",
       "      <td>0</td>\n",
       "      <td>0</td>\n",
       "      <td>0</td>\n",
       "      <td>...</td>\n",
       "      <td>0</td>\n",
       "      <td>0</td>\n",
       "      <td>0</td>\n",
       "      <td>0</td>\n",
       "      <td>0</td>\n",
       "      <td>0</td>\n",
       "      <td>0</td>\n",
       "      <td>0</td>\n",
       "      <td>0</td>\n",
       "      <td>0</td>\n",
       "    </tr>\n",
       "    <tr>\n",
       "      <th>2</th>\n",
       "      <td>01-04-2021</td>\n",
       "      <td>7</td>\n",
       "      <td>16100</td>\n",
       "      <td>112700</td>\n",
       "      <td>9.456886</td>\n",
       "      <td>10657.910157</td>\n",
       "      <td>102042.089843</td>\n",
       "      <td>0</td>\n",
       "      <td>0</td>\n",
       "      <td>0</td>\n",
       "      <td>...</td>\n",
       "      <td>0</td>\n",
       "      <td>0</td>\n",
       "      <td>0</td>\n",
       "      <td>0</td>\n",
       "      <td>0</td>\n",
       "      <td>0</td>\n",
       "      <td>0</td>\n",
       "      <td>0</td>\n",
       "      <td>1</td>\n",
       "      <td>0</td>\n",
       "    </tr>\n",
       "    <tr>\n",
       "      <th>3</th>\n",
       "      <td>01-04-2021</td>\n",
       "      <td>6</td>\n",
       "      <td>20100</td>\n",
       "      <td>120600</td>\n",
       "      <td>6.935385</td>\n",
       "      <td>8364.074702</td>\n",
       "      <td>112235.925298</td>\n",
       "      <td>0</td>\n",
       "      <td>0</td>\n",
       "      <td>0</td>\n",
       "      <td>...</td>\n",
       "      <td>0</td>\n",
       "      <td>0</td>\n",
       "      <td>0</td>\n",
       "      <td>0</td>\n",
       "      <td>0</td>\n",
       "      <td>0</td>\n",
       "      <td>0</td>\n",
       "      <td>0</td>\n",
       "      <td>0</td>\n",
       "      <td>1</td>\n",
       "    </tr>\n",
       "    <tr>\n",
       "      <th>4</th>\n",
       "      <td>01-04-2021</td>\n",
       "      <td>3</td>\n",
       "      <td>8100</td>\n",
       "      <td>24300</td>\n",
       "      <td>17.995663</td>\n",
       "      <td>4372.946230</td>\n",
       "      <td>19927.053770</td>\n",
       "      <td>0</td>\n",
       "      <td>0</td>\n",
       "      <td>0</td>\n",
       "      <td>...</td>\n",
       "      <td>0</td>\n",
       "      <td>0</td>\n",
       "      <td>0</td>\n",
       "      <td>0</td>\n",
       "      <td>0</td>\n",
       "      <td>0</td>\n",
       "      <td>0</td>\n",
       "      <td>1</td>\n",
       "      <td>0</td>\n",
       "      <td>0</td>\n",
       "    </tr>\n",
       "    <tr>\n",
       "      <th>...</th>\n",
       "      <td>...</td>\n",
       "      <td>...</td>\n",
       "      <td>...</td>\n",
       "      <td>...</td>\n",
       "      <td>...</td>\n",
       "      <td>...</td>\n",
       "      <td>...</td>\n",
       "      <td>...</td>\n",
       "      <td>...</td>\n",
       "      <td>...</td>\n",
       "      <td>...</td>\n",
       "      <td>...</td>\n",
       "      <td>...</td>\n",
       "      <td>...</td>\n",
       "      <td>...</td>\n",
       "      <td>...</td>\n",
       "      <td>...</td>\n",
       "      <td>...</td>\n",
       "      <td>...</td>\n",
       "      <td>...</td>\n",
       "      <td>...</td>\n",
       "    </tr>\n",
       "    <tr>\n",
       "      <th>445</th>\n",
       "      <td>15-04-2021</td>\n",
       "      <td>2</td>\n",
       "      <td>1300</td>\n",
       "      <td>2600</td>\n",
       "      <td>15.475687</td>\n",
       "      <td>402.367873</td>\n",
       "      <td>2197.632127</td>\n",
       "      <td>0</td>\n",
       "      <td>0</td>\n",
       "      <td>0</td>\n",
       "      <td>...</td>\n",
       "      <td>0</td>\n",
       "      <td>0</td>\n",
       "      <td>0</td>\n",
       "      <td>0</td>\n",
       "      <td>0</td>\n",
       "      <td>0</td>\n",
       "      <td>0</td>\n",
       "      <td>0</td>\n",
       "      <td>0</td>\n",
       "      <td>0</td>\n",
       "    </tr>\n",
       "    <tr>\n",
       "      <th>446</th>\n",
       "      <td>15-04-2021</td>\n",
       "      <td>6</td>\n",
       "      <td>2600</td>\n",
       "      <td>15600</td>\n",
       "      <td>17.057027</td>\n",
       "      <td>2660.896242</td>\n",
       "      <td>12939.103758</td>\n",
       "      <td>0</td>\n",
       "      <td>0</td>\n",
       "      <td>0</td>\n",
       "      <td>...</td>\n",
       "      <td>0</td>\n",
       "      <td>0</td>\n",
       "      <td>0</td>\n",
       "      <td>0</td>\n",
       "      <td>0</td>\n",
       "      <td>0</td>\n",
       "      <td>1</td>\n",
       "      <td>0</td>\n",
       "      <td>0</td>\n",
       "      <td>0</td>\n",
       "    </tr>\n",
       "    <tr>\n",
       "      <th>447</th>\n",
       "      <td>15-04-2021</td>\n",
       "      <td>2</td>\n",
       "      <td>1600</td>\n",
       "      <td>3200</td>\n",
       "      <td>18.965550</td>\n",
       "      <td>606.897606</td>\n",
       "      <td>2593.102394</td>\n",
       "      <td>0</td>\n",
       "      <td>0</td>\n",
       "      <td>0</td>\n",
       "      <td>...</td>\n",
       "      <td>0</td>\n",
       "      <td>0</td>\n",
       "      <td>0</td>\n",
       "      <td>0</td>\n",
       "      <td>0</td>\n",
       "      <td>1</td>\n",
       "      <td>0</td>\n",
       "      <td>0</td>\n",
       "      <td>0</td>\n",
       "      <td>0</td>\n",
       "    </tr>\n",
       "    <tr>\n",
       "      <th>448</th>\n",
       "      <td>15-04-2021</td>\n",
       "      <td>3</td>\n",
       "      <td>1900</td>\n",
       "      <td>5700</td>\n",
       "      <td>16.793014</td>\n",
       "      <td>957.201826</td>\n",
       "      <td>4742.798174</td>\n",
       "      <td>0</td>\n",
       "      <td>0</td>\n",
       "      <td>0</td>\n",
       "      <td>...</td>\n",
       "      <td>0</td>\n",
       "      <td>0</td>\n",
       "      <td>0</td>\n",
       "      <td>0</td>\n",
       "      <td>0</td>\n",
       "      <td>0</td>\n",
       "      <td>0</td>\n",
       "      <td>0</td>\n",
       "      <td>0</td>\n",
       "      <td>0</td>\n",
       "    </tr>\n",
       "    <tr>\n",
       "      <th>449</th>\n",
       "      <td>15-04-2021</td>\n",
       "      <td>1</td>\n",
       "      <td>3100</td>\n",
       "      <td>3100</td>\n",
       "      <td>15.333300</td>\n",
       "      <td>475.332295</td>\n",
       "      <td>2624.667705</td>\n",
       "      <td>0</td>\n",
       "      <td>0</td>\n",
       "      <td>0</td>\n",
       "      <td>...</td>\n",
       "      <td>0</td>\n",
       "      <td>0</td>\n",
       "      <td>0</td>\n",
       "      <td>0</td>\n",
       "      <td>0</td>\n",
       "      <td>0</td>\n",
       "      <td>0</td>\n",
       "      <td>0</td>\n",
       "      <td>0</td>\n",
       "      <td>0</td>\n",
       "    </tr>\n",
       "  </tbody>\n",
       "</table>\n",
       "<p>450 rows × 87 columns</p>\n",
       "</div>"
      ],
      "text/plain": [
       "           Date  Volume  Avg Price  Total Sales Value  Discount Rate (%)  \\\n",
       "0    01-04-2021      15      12100             181500          11.654820   \n",
       "1    01-04-2021      10      10100             101000          11.560498   \n",
       "2    01-04-2021       7      16100             112700           9.456886   \n",
       "3    01-04-2021       6      20100             120600           6.935385   \n",
       "4    01-04-2021       3       8100              24300          17.995663   \n",
       "..          ...     ...        ...                ...                ...   \n",
       "445  15-04-2021       2       1300               2600          15.475687   \n",
       "446  15-04-2021       6       2600              15600          17.057027   \n",
       "447  15-04-2021       2       1600               3200          18.965550   \n",
       "448  15-04-2021       3       1900               5700          16.793014   \n",
       "449  15-04-2021       1       3100               3100          15.333300   \n",
       "\n",
       "     Discount Amount  Net Sales Value  Day_Friday  Day_Monday  Day_Saturday  \\\n",
       "0       21153.498820    160346.501180           0           0             0   \n",
       "1       11676.102961     89323.897039           0           0             0   \n",
       "2       10657.910157    102042.089843           0           0             0   \n",
       "3        8364.074702    112235.925298           0           0             0   \n",
       "4        4372.946230     19927.053770           0           0             0   \n",
       "..               ...              ...         ...         ...           ...   \n",
       "445       402.367873      2197.632127           0           0             0   \n",
       "446      2660.896242     12939.103758           0           0             0   \n",
       "447       606.897606      2593.102394           0           0             0   \n",
       "448       957.201826      4742.798174           0           0             0   \n",
       "449       475.332295      2624.667705           0           0             0   \n",
       "\n",
       "     ...  Model_Vedic Cream  Model_Vedic Oil  Model_Vedic Shampoo  \\\n",
       "0    ...                  0                0                    0   \n",
       "1    ...                  0                0                    0   \n",
       "2    ...                  0                0                    0   \n",
       "3    ...                  0                0                    0   \n",
       "4    ...                  0                0                    0   \n",
       "..   ...                ...              ...                  ...   \n",
       "445  ...                  0                0                    0   \n",
       "446  ...                  0                0                    0   \n",
       "447  ...                  0                0                    0   \n",
       "448  ...                  0                0                    0   \n",
       "449  ...                  0                0                    0   \n",
       "\n",
       "     Model_W-Casuals  Model_W-Inners  Model_W-Lounge  Model_W-Western  \\\n",
       "0                  0               0               0                0   \n",
       "1                  0               0               0                0   \n",
       "2                  0               0               0                0   \n",
       "3                  0               0               0                0   \n",
       "4                  0               0               0                0   \n",
       "..               ...             ...             ...              ...   \n",
       "445                0               0               0                0   \n",
       "446                0               0               0                1   \n",
       "447                0               0               1                0   \n",
       "448                0               0               0                0   \n",
       "449                0               0               0                0   \n",
       "\n",
       "     Model_YM-98   Model_YM-99  Model_YM-99 Plus  \n",
       "0               0            0                 0  \n",
       "1               0            0                 0  \n",
       "2               0            1                 0  \n",
       "3               0            0                 1  \n",
       "4               1            0                 0  \n",
       "..            ...          ...               ...  \n",
       "445             0            0                 0  \n",
       "446             0            0                 0  \n",
       "447             0            0                 0  \n",
       "448             0            0                 0  \n",
       "449             0            0                 0  \n",
       "\n",
       "[450 rows x 87 columns]"
      ]
     },
     "execution_count": 75,
     "metadata": {},
     "output_type": "execute_result"
    }
   ],
   "source": [
    "converted_df"
   ]
  },
  {
   "cell_type": "markdown",
   "id": "8f8fbb3d-5eda-4f3d-8a44-18bbcae823c6",
   "metadata": {},
   "source": [
    "# Conclusion "
   ]
  },
  {
   "cell_type": "markdown",
   "id": "90db5937-ec16-4a85-9fbf-f2b282586e2d",
   "metadata": {},
   "source": [
    "●\tSummarize the key findings from the descriptive analytics and data visualizations"
   ]
  },
  {
   "cell_type": "markdown",
   "id": "00b75c5a-0de2-46bc-bb07-f480f5e147e5",
   "metadata": {},
   "source": [
    "From the key findings from descriptive analysis and data visualization, we can summarize that the data is of sales data with discount for one city only.\n",
    "The data having three BU categories - Mobile, FMCG and Lifestyles with 9 brands Jeera, Gear, Viva, RealU, YouM, Babaji, Vedic, Samsung and Orange.\n",
    "We can see from the Bar Chart,on Thursday the sale value is high. Also, the products of Brand Jeera are maximum sold products."
   ]
  },
  {
   "cell_type": "markdown",
   "id": "495db43a-242c-45d5-9670-fad4171534d3",
   "metadata": {},
   "source": [
    "●\tReflect on the importance of data preprocessing steps like standardization and one-hot encoding in data analysis and machine learning."
   ]
  },
  {
   "cell_type": "markdown",
   "id": "7177d51e-3416-4193-a045-5745af9e3dba",
   "metadata": {},
   "source": [
    "Standardisation assumes that the dataset is in Gaussian distribution and measures the variable at different scales, making all the variables equally contribute to the analysis. It is used to make data internally consistent.\n",
    "One-hot encoding is a technique in machine learning that turns categorical data into numerical data for machines to understand."
   ]
  }
 ],
 "metadata": {
  "kernelspec": {
   "display_name": "Python 3 (ipykernel)",
   "language": "python",
   "name": "python3"
  },
  "language_info": {
   "codemirror_mode": {
    "name": "ipython",
    "version": 3
   },
   "file_extension": ".py",
   "mimetype": "text/x-python",
   "name": "python",
   "nbconvert_exporter": "python",
   "pygments_lexer": "ipython3",
   "version": "3.11.8"
  }
 },
 "nbformat": 4,
 "nbformat_minor": 5
}
